{
 "cells": [
  {
   "cell_type": "code",
   "execution_count": 1,
   "metadata": {},
   "outputs": [],
   "source": [
    "from selenium import webdriver\n",
    "from selenium.webdriver.common.by import By\n",
    "from selenium.webdriver.common.keys import Keys\n",
    "import time "
   ]
  },
  {
   "cell_type": "code",
   "execution_count": 2,
   "metadata": {},
   "outputs": [],
   "source": [
    "driver = webdriver.Chrome()\n",
    "driver.get('https://www.bnn.in.th/th/p/computer-hardware-diy?q=&ref=search-result')\n",
    "time.sleep(5)"
   ]
  },
  {
   "cell_type": "code",
   "execution_count": 3,
   "metadata": {},
   "outputs": [],
   "source": [
    "close_noti = driver.find_element(By.XPATH,'//*[@id=\"close-button-1573815308034\"]/span')\n",
    "close_noti.click()"
   ]
  },
  {
   "cell_type": "code",
   "execution_count": 4,
   "metadata": {},
   "outputs": [],
   "source": [
    "accept_cookie = driver.find_element(By.XPATH,'//*[@id=\"__layout\"]/div/div/div[2]/div/button[2]')\n",
    "accept_cookie.click()"
   ]
  },
  {
   "cell_type": "code",
   "execution_count": 5,
   "metadata": {},
   "outputs": [],
   "source": [
    "search = driver.find_element(By.XPATH,'//*[@id=\"__layout\"]/div/header[2]/div/div/section[1]/div/div/div/div[2]/div/input')\n",
    "search.send_keys('4060')\n",
    "search.send_keys(Keys.ENTER)"
   ]
  },
  {
   "cell_type": "code",
   "execution_count": 6,
   "metadata": {},
   "outputs": [],
   "source": [
    "driver.execute_script(\"document.body.style.transform = 'scale(0.1)';\")\n",
    "driver.execute_script('document.body.style.transformOrigin = \"0 0\";')\n"
   ]
  },
  {
   "cell_type": "code",
   "execution_count": 7,
   "metadata": {},
   "outputs": [],
   "source": [
    "from bs4 import BeautifulSoup"
   ]
  },
  {
   "cell_type": "code",
   "execution_count": 8,
   "metadata": {},
   "outputs": [],
   "source": [
    "data = driver.page_source \n",
    "soup = BeautifulSoup(data, 'html.parser')"
   ]
  },
  {
   "cell_type": "code",
   "execution_count": 16,
   "metadata": {},
   "outputs": [],
   "source": [
    "\n",
    "el=soup.select(\"#__layout > div > main > div > div.container > div > section.product-list-container > div.product-list > a\")"
   ]
  },
  {
   "cell_type": "code",
   "execution_count": 25,
   "metadata": {},
   "outputs": [
    {
     "data": {
      "text/plain": [
       "24"
      ]
     },
     "execution_count": 25,
     "metadata": {},
     "output_type": "execute_result"
    }
   ],
   "source": [
    "len(el)"
   ]
  },
  {
   "cell_type": "code",
   "execution_count": 30,
   "metadata": {},
   "outputs": [],
   "source": [
    "e = el[1]"
   ]
  },
  {
   "cell_type": "code",
   "execution_count": 31,
   "metadata": {},
   "outputs": [
    {
     "data": {
      "text/plain": [
       "'การ์ดจอ COLORFUL VGA RTX 4060 NB DUO 8GB-V 8GB GDDR6 128-bit'"
      ]
     },
     "execution_count": 31,
     "metadata": {},
     "output_type": "execute_result"
    }
   ],
   "source": [
    "e.select_one(\"div.product-item-details > div.product-name\").text.strip()"
   ]
  },
  {
   "cell_type": "code",
   "execution_count": 32,
   "metadata": {},
   "outputs": [
    {
     "name": "stdout",
     "output_type": "stream",
     "text": [
      "[['การ์ดจอ ASUS VGA DUAL-RTX4060-O8G-WHITE 8GB GDDR6 128-bit', '฿11,500'], ['การ์ดจอ COLORFUL VGA RTX 4060 NB DUO 8GB-V 8GB GDDR6 128-bit', '฿11,380'], ['การ์ดจอ COLORFUL VGA RTX 4060 Ti NB EX 8GB-V 8GB GDDR6 128-bit', '฿15,380'], ['การ์ดจอ GALAX GeForce RTX 4060 EX White 1-Click OC 8GB GDDR6 128-bit', '฿11,200'], ['การ์ดจอ GALAX VGA GeForce RTX 4060 1-Click OC 2X 8GB GDDR6 128-bit', '฿10,900'], ['การ์ดจอ GALAX VGA GeForce RTX 4060 EX 1-Click OC 8GB GDDR6 128-bit', '฿10,900'], ['การ์ดจอ GALAX VGA GeForce RTX 4060 Ti 8GB 1-Click OC GDDR6 128-bit', '฿13,700'], ['การ์ดจอ GALAX VGA GeForce RTX 4060 Ti 8GB EX GDDR6 128-bit', '฿14,300'], ['การ์ดจอ GALAX VGA GeForce RTX 4060 Ti 8GB EX White GDDR6 128-bit', '฿14,700'], ['การ์ดจอ GIGABYTE VGA GeForce RTX 4060 WINDFORCE OC (rev 1.0) 8GB GDDR6 128-bit', '฿9,890'], ['การ์ดจอ GIGABYTE VGA GeForce RTX 4060 Gaming OC (rev 1.0) 8GB GDDR6 128-bit', '฿11,400'], ['การ์ดจอ GIGABYTE VGA RTX 4060 EAGLE OC (rev 1.0) 8GB GDDR6 128-bit', '฿11,000'], ['การ์ดจอ MSI VGA GeForce RTX 4060 Ti VENTUS 2X BLACK 8G OC GDDR6 128-bit', '฿13,400'], ['การ์ดจอ MSI VGA GeForce RTX 4060 Ti VENTUS 3X 8G OC GDDR6 128-bit', '฿15,400'], ['การ์ดจอ MSI VGA GeForce RTX 4060 Ti GAMING X 8G GDDR6 128-bit', '฿16,600'], ['การ์ดจอ MSI VGA RTX 4060 GAMING X 8GB GDDR6 128-bit', '฿11,400'], ['การ์ดจอ MSI VGA RTX 4060 VENTUS 2X BLACK OC 8GB GDDR6 128-bit', '฿10,200'], ['การ์ดจอ GALAX VGA GeForce RTX 4060 1-Click OC 2X V2 8GB GDDR6 128-bit', '฿10,300'], ['การ์ดจอ MSI VGA RTX 4060 VENTUS 2X White 8G OC GDDR6 128-bit', '฿11,750'], ['การ์ดจอ ASUS Dual GeForce RTX 4060 EVO White OC Edition 8GB', '฿11,600'], ['การ์ดจอ ASUS Dual GeForce RTX 4060 EVO OC Edition 8GB GDDR6 128-bit', '฿10,700'], ['การ์ดจอ ASUS Dual GeForce RTX 4060 Ti EVO OC Edition 8GB GDDR6 128-bit', '฿14,900'], ['การ์ดจอ ASUS Dual GeForce RTX 4060 V2 OC Edition 8GB GDDR6 128-bit', '฿10,600'], ['การ์ดจอ GALAX GeForce RTX 4060 Ti 1-Click OC V2 8GB GDDR6 128-bit', '฿13,500']]\n"
     ]
    }
   ],
   "source": [
    "records=[]\n",
    "data = driver.page_source\n",
    "soup = BeautifulSoup(data, 'html.parser')\n",
    "el=soup.select(\"#__layout > div > main > div > div.container > div > section.product-list-container > div.product-list > a\")\n",
    "for e in el:\n",
    "    name = e.select_one(\"div.product-item-details > div.product-name\").text.strip()\n",
    "    price = e.select_one(\"div.product-item-details > div.product-price\").text.strip()\n",
    "    records.append([name,price])\n",
    "    \n",
    "print(records)"
   ]
  },
  {
   "cell_type": "code",
   "execution_count": 33,
   "metadata": {},
   "outputs": [
    {
     "data": {
      "text/plain": [
       "24"
      ]
     },
     "execution_count": 33,
     "metadata": {},
     "output_type": "execute_result"
    }
   ],
   "source": [
    "len(records)"
   ]
  },
  {
   "cell_type": "code",
   "execution_count": 34,
   "metadata": {},
   "outputs": [],
   "source": [
    "driver.quit()"
   ]
  }
 ],
 "metadata": {
  "kernelspec": {
   "display_name": "Python 3",
   "language": "python",
   "name": "python3"
  },
  "language_info": {
   "codemirror_mode": {
    "name": "ipython",
    "version": 3
   },
   "file_extension": ".py",
   "mimetype": "text/x-python",
   "name": "python",
   "nbconvert_exporter": "python",
   "pygments_lexer": "ipython3",
   "version": "3.11.9"
  }
 },
 "nbformat": 4,
 "nbformat_minor": 2
}
