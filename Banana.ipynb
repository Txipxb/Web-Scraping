{
 "cells": [
  {
   "cell_type": "code",
   "execution_count": 1,
   "metadata": {},
   "outputs": [],
   "source": [
    "from selenium import webdriver\n",
    "from selenium.webdriver.common.by import By\n",
    "from selenium.webdriver.common.keys import Keys\n",
    "import time "
   ]
  },
  {
   "cell_type": "code",
   "execution_count": 2,
   "metadata": {},
   "outputs": [],
   "source": [
    "driver = webdriver.Chrome()\n",
    "driver.get('https://www.bnn.in.th/th/p/computer-hardware-diy?q=&ref=search-result')\n",
    "time.sleep(5)"
   ]
  },
  {
   "cell_type": "code",
   "execution_count": 3,
   "metadata": {},
   "outputs": [],
   "source": [
    "close_noti = driver.find_element(By.XPATH,'//*[@id=\"close-button-1573815308034\"]/span')\n",
    "close_noti.click()"
   ]
  },
  {
   "cell_type": "code",
   "execution_count": 4,
   "metadata": {},
   "outputs": [],
   "source": [
    "accept_cookie = driver.find_element(By.XPATH,'//*[@id=\"__layout\"]/div/div/div[2]/div/button[2]')\n",
    "accept_cookie.click()"
   ]
  },
  {
   "cell_type": "code",
   "execution_count": 5,
   "metadata": {},
   "outputs": [],
   "source": [
    "search = driver.find_element(By.XPATH,'//*[@id=\"__layout\"]/div/header[2]/div/div/section[1]/div/div/div/div[2]/div/input')\n",
    "search.send_keys('4060')\n",
    "search.send_keys(Keys.ENTER)"
   ]
  },
  {
   "cell_type": "code",
   "execution_count": 6,
   "metadata": {},
   "outputs": [],
   "source": [
    "driver.execute_script(\"document.body.style.transform = 'scale(0.1)';\")\n",
    "driver.execute_script('document.body.style.transformOrigin = \"0 0\";')\n"
   ]
  },
  {
   "cell_type": "code",
   "execution_count": 7,
   "metadata": {},
   "outputs": [],
   "source": [
    "from bs4 import BeautifulSoup"
   ]
  },
  {
   "cell_type": "code",
   "execution_count": 8,
   "metadata": {},
   "outputs": [],
   "source": [
    "data = driver.page_source \n",
    "soup = BeautifulSoup(data, 'html.parser')"
   ]
  },
  {
   "cell_type": "code",
   "execution_count": 41,
   "metadata": {},
   "outputs": [],
   "source": [
    "\n",
    "el=soup.select(\"#__layout > div > main > div > div > div > section.product-list-container > div.product-list\")"
   ]
  },
  {
   "cell_type": "code",
   "execution_count": 39,
   "metadata": {},
   "outputs": [
    {
     "data": {
      "text/plain": [
       "1"
      ]
     },
     "execution_count": 39,
     "metadata": {},
     "output_type": "execute_result"
    }
   ],
   "source": [
    "len(el)"
   ]
  },
  {
   "cell_type": "code",
   "execution_count": 45,
   "metadata": {},
   "outputs": [],
   "source": [
    "e = el[0]"
   ]
  },
  {
   "cell_type": "code",
   "execution_count": 47,
   "metadata": {},
   "outputs": [
    {
     "data": {
      "text/plain": [
       "'การ์ดจอ ASUS VGA DUAL-RTX4060-O8G-WHITE 8GB GDDR6 128-bit'"
      ]
     },
     "execution_count": 47,
     "metadata": {},
     "output_type": "execute_result"
    }
   ],
   "source": [
    "e.select_one(\"#__layout > div > main > div > div.container > div > section.product-list-container > div.product-list > a:nth-child(1) > div.product-item-details > div.product-name\").text.strip()"
   ]
  },
  {
   "cell_type": "code",
   "execution_count": 42,
   "metadata": {},
   "outputs": [
    {
     "name": "stdout",
     "output_type": "stream",
     "text": [
      "[['การ์ดจอ ASUS VGA DUAL-RTX4060-O8G-WHITE 8GB GDDR6 128-bit', '฿11,500']]\n"
     ]
    }
   ],
   "source": [
    "records=[]\n",
    "data = driver.page_source\n",
    "soup = BeautifulSoup(data, 'html.parser')\n",
    "el=soup.select(\"#__layout > div > main > div > div > div > section.product-list-container > div.product-list\")\n",
    "for e in el:\n",
    "    name = e.select_one(\"#__layout > div > main > div > div.container > div > section.product-list-container > div.product-list > a:nth-child(1) > div.product-item-details > div.product-name\").text.strip()\n",
    "    prine = e.select_one(\"#__layout > div > main > div > div.container > div:nth-child(2) > section.product-list-container > div.product-list > a:nth-child(1) > div.product-item-details > div.product-price\").text.strip()\n",
    "    records.append([name,prine])\n",
    "    \n",
    "print(records)"
   ]
  },
  {
   "cell_type": "code",
   "execution_count": 43,
   "metadata": {},
   "outputs": [
    {
     "data": {
      "text/plain": [
       "1"
      ]
     },
     "execution_count": 43,
     "metadata": {},
     "output_type": "execute_result"
    }
   ],
   "source": [
    "len(records)"
   ]
  },
  {
   "cell_type": "code",
   "execution_count": 48,
   "metadata": {},
   "outputs": [],
   "source": [
    "driver.quit()"
   ]
  }
 ],
 "metadata": {
  "kernelspec": {
   "display_name": "Python 3",
   "language": "python",
   "name": "python3"
  },
  "language_info": {
   "codemirror_mode": {
    "name": "ipython",
    "version": 3
   },
   "file_extension": ".py",
   "mimetype": "text/x-python",
   "name": "python",
   "nbconvert_exporter": "python",
   "pygments_lexer": "ipython3",
   "version": "3.11.9"
  }
 },
 "nbformat": 4,
 "nbformat_minor": 2
}
