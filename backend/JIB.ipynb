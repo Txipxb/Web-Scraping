{
 "cells": [
  {
   "cell_type": "code",
   "execution_count": 1,
   "metadata": {},
   "outputs": [],
   "source": [
    "from selenium import webdriver\n",
    "from selenium.webdriver.common.by import By\n",
    "from selenium.webdriver.common.keys import Keys\n",
    "\n",
    "import time\n"
   ]
  },
  {
   "cell_type": "code",
   "execution_count": 2,
   "metadata": {},
   "outputs": [
    {
     "name": "stderr",
     "output_type": "stream",
     "text": [
      "The chromedriver version (132.0.6834.159) detected in PATH at C:\\chromedriver-win64\\chromedriver.exe might not be compatible with the detected chrome version (133.0.6943.142); currently, chromedriver 133.0.6943.141 is recommended for chrome 133.*, so it is advised to delete the driver in PATH and retry\n"
     ]
    }
   ],
   "source": [
    "driver = webdriver.Chrome()\n",
    "driver.get('https://www.jib.co.th/web/product/product_search/0?str_search=&cate_id[]=42')\n",
    "time.sleep(5)"
   ]
  },
  {
   "cell_type": "code",
   "execution_count": 3,
   "metadata": {},
   "outputs": [],
   "source": [
    "accept_cookie = driver.find_element(By.XPATH,'/html/body/div[1]/div/a[1]')\n",
    "accept_cookie.click()"
   ]
  },
  {
   "cell_type": "code",
   "execution_count": 4,
   "metadata": {},
   "outputs": [],
   "source": [
    "search = driver.find_element(By.XPATH,'//*[@id=\"productTitle\"]')\n",
    "search.send_keys('4060')\n",
    "search.send_keys(Keys.ENTER)\n"
   ]
  },
  {
   "cell_type": "code",
   "execution_count": 5,
   "metadata": {},
   "outputs": [],
   "source": [
    "driver.execute_script(\"document.body.style.transform = 'scale(0.1)';\")\n",
    "driver.execute_script('document.body.style.transformOrigin = \"0 0\";')\n"
   ]
  },
  {
   "cell_type": "code",
   "execution_count": 6,
   "metadata": {},
   "outputs": [],
   "source": [
    "from bs4 import BeautifulSoup"
   ]
  },
  {
   "cell_type": "code",
   "execution_count": 7,
   "metadata": {},
   "outputs": [],
   "source": [
    "data = driver.page_source \n",
    "soup = BeautifulSoup(data, 'html.parser')"
   ]
  },
  {
   "cell_type": "code",
   "execution_count": 8,
   "metadata": {},
   "outputs": [],
   "source": [
    "\n",
    "el=soup.select(\"#body > div > div > div.row > div > div.panel > div.panel-body.panel_body_detail > div \")"
   ]
  },
  {
   "cell_type": "code",
   "execution_count": 9,
   "metadata": {},
   "outputs": [
    {
     "data": {
      "text/plain": [
       "19"
      ]
     },
     "execution_count": 9,
     "metadata": {},
     "output_type": "execute_result"
    }
   ],
   "source": [
    "len(el)"
   ]
  },
  {
   "cell_type": "code",
   "execution_count": 10,
   "metadata": {},
   "outputs": [],
   "source": [
    "e = el[0]"
   ]
  },
  {
   "cell_type": "code",
   "execution_count": 15,
   "metadata": {},
   "outputs": [
    {
     "data": {
      "text/plain": [
       "'VGA (การ์ดแสดงผล) GIGABYTE GEFORCE RTX 4060 GAMING OC 8G - 8GB GDDR6 (GV-N4060GAMING OC-8GD)'"
      ]
     },
     "execution_count": 15,
     "metadata": {},
     "output_type": "execute_result"
    }
   ],
   "source": [
    "e.select_one(\"#body > div > div > div.row > div > div.panel > div.panel-body.panel_body_detail > div > div > div:nth-child(4) > div > a > div > div > div > div > span\").text.strip()\n",
    "#e.select_one(\"#body > div > div > div.row > div > div.panel > div.panel-body.panel_body_detail > div > div > div:nth-child(7) > div > div > div > div > div > div.col-md-6.col-sm-6.col-xs-6.pad-0.text-right > p\").text.strip()\n",
    "#e.select_one(\"#body > div > div > div.row > div > div.panel > div.panel-body.panel_body_detail > div:nth-child(1) > div > div:nth-child(2) > div > a > img\").get('src')\n",
    "#e.select_one(\"div > div > div:nth-child(4) > div > a\").get('href')"
   ]
  },
  {
   "cell_type": "code",
   "execution_count": 16,
   "metadata": {},
   "outputs": [
    {
     "name": "stdout",
     "output_type": "stream",
     "text": [
      "[{'name': 'VGA (การ์ดแสดงผล) GIGABYTE GEFORCE RTX 4060 GAMING OC 8G - 8GB GDDR6 (GV-N4060GAMING OC-8GD)', 'price': '11,600.-', 'image_url': '/img_master/product/medium/2023062810424860487_1.jpg?v=604871737967193', 'product_url': 'https://www.jib.co.thhttps://www.jib.co.th/web/product/readProduct/60487/2615/VGA--การ์ดแสดงผล--GIGABYTE-GEFORCE-RTX-4060-GAMING-OC-8G---8GB-GDDR6--GV-N4060GAMING-OC-8GD-'}, {'name': 'VGA (การ์ดแสดงผล) GIGABYTE GEFORCE RTX 4060 WINDFORCE OC 8G - 8GB GDDR6 (GV-N4060WF2OC-8GD)', 'price': '10,400.-', 'image_url': '', 'product_url': 'https://www.jib.co.thhttps://www.jib.co.th/web/product/readProduct/60498/2615/VGA--การ์ดแสดงผล--GIGABYTE-GEFORCE-RTX-4060-WINDFORCE-OC-8G---8GB-GDDR6--GV-N4060WF2OC-8GD-'}, {'name': 'VGA (การ์ดแสดงผล) ASUS DUAL GEFORCE RTX 4060 WHITE OC EDITION 8GB GDDR6 (DUAL-RTX4060-O8G-WHITE)', 'price': '11,800.-', 'image_url': '', 'product_url': 'https://www.jib.co.thhttps://www.jib.co.th/web/product/readProduct/61582/2615/VGA--การ์ดแสดงผล--ASUS-DUAL-GEFORCE-RTX-4060-WHITE-OC-EDITION-8GB-GDDR6--DUAL-RTX4060-O8G-WHITE-'}, {'name': 'VGA (การ์ดแสดงผล) GIGABYTE GEFORCE RTX 4060 EAGLE OC 8G - 8GB GDDR6 (GV-N4060EAGLE OC-8GD)', 'price': '10,900.-', 'image_url': '', 'product_url': 'https://www.jib.co.thhttps://www.jib.co.th/web/product/readProduct/60578/2615/VGA--การ์ดแสดงผล--GIGABYTE-GEFORCE-RTX-4060-EAGLE-OC-8G---8GB-GDDR6--GV-N4060EAGLE-OC-8GD-'}, {'name': 'VGA (การ์ดแสดงผล) MSI GEFORCE RTX 4060 VENTUS 2X BLACK 8G OC - 8GB GDDR6', 'price': '10,300.-', 'image_url': '', 'product_url': 'https://www.jib.co.thhttps://www.jib.co.th/web/product/readProduct/60750/2615/VGA--การ์ดแสดงผล--MSI-GEFORCE-RTX-4060-VENTUS-2X-BLACK-8G-OC---8GB-GDDR6'}, {'name': 'VGA (การ์ดแสดงผล) GIGABYTE GEFORCE RTX 4060 TI EAGLE OC 8G - 8GB GDDR6 (GV-N406TEAGLE OC-8GD)', 'price': '15,200.-', 'image_url': '', 'product_url': 'https://www.jib.co.thhttps://www.jib.co.th/web/product/readProduct/60039/2615/VGA--การ์ดแสดงผล--GIGABYTE-GEFORCE-RTX-4060-TI-EAGLE-OC-8G---8GB-GDDR6--GV-N406TEAGLE-OC-8GD-'}, {'name': 'VGA (การ์ดแสดงผล) GIGABYTE GEFORCE RTX 4060 AERO OC 8G - 8GB GDDR6 (GV-N4060AERO OC-8GD)', 'price': '12,600.-', 'image_url': '', 'product_url': 'https://www.jib.co.thhttps://www.jib.co.th/web/product/readProduct/60575/2615/VGA--การ์ดแสดงผล--GIGABYTE-GEFORCE-RTX-4060-AERO-OC-8G---8GB-GDDR6--GV-N4060AERO-OC-8GD-'}, {'name': 'VGA (การ์ดแสดงผล) MSI GEFORCE RTX 4060 TI VENTUS 2X BLACK 8G OC - 8GB GDDR6', 'price': '15,600.-', 'image_url': '', 'product_url': 'https://www.jib.co.thhttps://www.jib.co.th/web/product/readProduct/59798/2615/VGA--การ์ดแสดงผล--MSI-GEFORCE-RTX-4060-TI-VENTUS-2X-BLACK-8G-OC---8GB-GDDR6'}, {'name': 'VGA (การ์ดแสดงผล) GALAX GEFORCE RTX 4060 1-CLICK OC 2X V2 - 8GB GDDR6', 'price': '10,300.-', 'image_url': '', 'product_url': 'https://www.jib.co.thhttps://www.jib.co.th/web/product/readProduct/65240/2615/VGA--การ์ดแสดงผล--GALAX-GEFORCE-RTX-4060-1-CLICK-OC-2X-V2---8GB-GDDR6'}, {'name': 'VGA (การ์ดแสดงผล) INNO3D GEFORCE RTX 4060 TWIN X2 - 8GB GDDR6 (N40602-08D6-173051N)', 'price': '10,200.-', 'image_url': '', 'product_url': 'https://www.jib.co.thhttps://www.jib.co.th/web/product/readProduct/60767/2615/VGA--การ์ดแสดงผล--INNO3D-GEFORCE-RTX-4060-TWIN-X2---8GB-GDDR6--N40602-08D6-173051N-'}, {'name': 'VGA (การ์ดแสดงผล) GIGABYTE GEFORCE RTX 4060 TI WINDFORCE OC 16G - 16GB GDDR6 (GV-N406TWF2OC-16GD)', 'price': '17,900.-', 'image_url': '', 'product_url': 'https://www.jib.co.thhttps://www.jib.co.th/web/product/readProduct/66037/2615/VGA--การ์ดแสดงผล--GIGABYTE-GEFORCE-RTX-4060-TI-WINDFORCE-OC-16G---16GB-GDDR6--GV-N406TWF2OC-16GD-'}, {'name': 'VGA (การ์ดแสดงผล) PNY GEFORCE RTX 4060 8GB VERTO DUAL FAN DLSS 3 - 8GB GDDR6 (VCG40608DFXPB1)', 'price': '9,790.-', 'image_url': '', 'product_url': 'https://www.jib.co.thhttps://www.jib.co.th/web/product/readProduct/61686/2615/VGA--การ์ดแสดงผล--PNY-GEFORCE-RTX-4060-8GB-VERTO-DUAL-FAN-DLSS-3---8GB-GDDR6--VCG40608DFXPB1-'}, {'name': 'VGA (การ์ดแสดงผล) GALAX GEFORCE RTX 4060 1-CLICK OC - 8GB GDDR6', 'price': '10,500.-', 'image_url': '', 'product_url': 'https://www.jib.co.thhttps://www.jib.co.th/web/product/readProduct/63871/2615/VGA--การ์ดแสดงผล--GALAX-GEFORCE-RTX-4060-1-CLICK-OC---8GB-GDDR6'}, {'name': 'VGA (การ์ดแสดงผล) INNO3D GEFORCE RTX 4060 TI 8GB TWIN X2 - 8GB GDDR6 (N406T2-08D6-171153N)', 'price': '13,900.-', 'image_url': '', 'product_url': 'https://www.jib.co.thhttps://www.jib.co.th/web/product/readProduct/59813/2615/VGA--การ์ดแสดงผล--INNO3D-GEFORCE-RTX-4060-TI-8GB-TWIN-X2---8GB-GDDR6--N406T2-08D6-171153N-'}, {'name': 'VGA (การ์ดแสดงผล) ASUS DUAL GEFORCE RTX 4060 V2 OC EDITION 8GB GDDR6 (DUAL-RTX4060-O8G-V2)', 'price': '10,900.-', 'image_url': '', 'product_url': 'https://www.jib.co.thhttps://www.jib.co.th/web/product/readProduct/70750/2615/VGA--การ์ดแสดงผล--ASUS-DUAL-GEFORCE-RTX-4060-V2-OC-EDITION-8GB-GDDR6--DUAL-RTX4060-O8G-V2-'}, {'name': 'VGA (การ์ดแสดงผล) MSI GEFORCE RTX 4060 GAMING X NV EDITION 8G - 8GB GDDR6', 'price': '12,600.-', 'image_url': '', 'product_url': 'https://www.jib.co.thhttps://www.jib.co.th/web/product/readProduct/64226/2615/VGA--การ์ดแสดงผล--MSI-GEFORCE-RTX-4060-GAMING-X-NV-EDITION-8G---8GB-GDDR6'}, {'name': 'VGA (การ์ดแสดงผล) ASUS DUAL GEFORCE RTX 4060 EVO WHITE OC EDITION 8GB GDDR6 (DUAL-RTX4060-O8G-EVO-WHITE)', 'price': '11,800.-', 'image_url': '', 'product_url': 'https://www.jib.co.thhttps://www.jib.co.th/web/product/readProduct/71997/2615/VGA--การ์ดแสดงผล--ASUS-DUAL-GEFORCE-RTX-4060-EVO-WHITE-OC-EDITION-8GB-GDDR6--DUAL-RTX4060-O8G-EVO-WHITE-'}, {'name': 'VGA (การ์ดแสดงผล) GALAX GEFORCE RTX 4060 TI EX V2 - 8GB GDDR6', 'price': '15,900.-', 'image_url': '', 'product_url': 'https://www.jib.co.thhttps://www.jib.co.th/web/product/readProduct/74696/2615/VGA--การ์ดแสดงผล--GALAX-GEFORCE-RTX-4060-TI-EX-V2---8GB-GDDR6'}, {'name': 'VGA (การ์ดแสดงผล) ASUS DUAL GEFORCE RTX 4060 TI V2 OC EDITION 8GB GDDR6 (DUAL-RTX4060TI-O8G-V2)', 'price': '15,600.-', 'image_url': '', 'product_url': 'https://www.jib.co.thhttps://www.jib.co.th/web/product/readProduct/74744/2615/VGA--การ์ดแสดงผล--ASUS-DUAL-GEFORCE-RTX-4060-TI-V2-OC-EDITION-8GB-GDDR6--DUAL-RTX4060TI-O8G-V2-'}]\n"
     ]
    }
   ],
   "source": [
    "records=[]\n",
    "data = driver.page_source\n",
    "soup = BeautifulSoup(data, 'html.parser')\n",
    "el=soup.select(\"#body > div > div > div.row > div > div.panel > div.panel-body.panel_body_detail > div\")\n",
    "for e in el:\n",
    "    name = e.select_one(\"#body > div > div > div.row > div > div.panel > div.panel-body.panel_body_detail > div > div > div:nth-child(4) > div > a > div > div > div > div > span\").text.strip()\n",
    "    price = e.select_one(\"#body > div > div > div.row > div > div.panel > div.panel-body.panel_body_detail > div > div > div:nth-child(7) > div > div > div > div > div > div.col-md-6.col-sm-6.col-xs-6.pad-0.text-right > p\").text.strip()\n",
    "    img_elem = e.select_one(\"#body > div > div > div.row > div > div.panel > div.panel-body.panel_body_detail > div:nth-child(1) > div > div:nth-child(2) > div > a > img\")\n",
    "    link_elem = e.select_one(\"div > div > div:nth-child(4) > div > a\")\n",
    "    img_url = img_elem['src'] if img_elem else ''\n",
    "    product_url = link_elem['href'] if link_elem else ''\n",
    "    records.append({\n",
    "                'name': name,\n",
    "                'price': price,\n",
    "                'image_url': img_url,\n",
    "                'product_url': f\"https://www.jib.co.th{product_url}\"\n",
    "            })\n",
    "    \n",
    "print(records)"
   ]
  },
  {
   "cell_type": "code",
   "execution_count": 17,
   "metadata": {},
   "outputs": [
    {
     "data": {
      "text/plain": [
       "19"
      ]
     },
     "execution_count": 17,
     "metadata": {},
     "output_type": "execute_result"
    }
   ],
   "source": [
    "len(records)"
   ]
  },
  {
   "cell_type": "code",
   "execution_count": 18,
   "metadata": {},
   "outputs": [],
   "source": [
    "driver.quit()"
   ]
  }
 ],
 "metadata": {
  "kernelspec": {
   "display_name": "Python 3",
   "language": "python",
   "name": "python3"
  },
  "language_info": {
   "codemirror_mode": {
    "name": "ipython",
    "version": 3
   },
   "file_extension": ".py",
   "mimetype": "text/x-python",
   "name": "python",
   "nbconvert_exporter": "python",
   "pygments_lexer": "ipython3",
   "version": "3.11.9"
  }
 },
 "nbformat": 4,
 "nbformat_minor": 2
}
