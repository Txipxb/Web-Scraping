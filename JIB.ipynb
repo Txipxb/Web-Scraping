{
 "cells": [
  {
   "cell_type": "code",
   "execution_count": 1,
   "metadata": {},
   "outputs": [],
   "source": [
    "from selenium import webdriver\n",
    "from selenium.webdriver.common.by import By\n",
    "from selenium.webdriver.common.keys import Keys\n",
    "\n",
    "import time\n"
   ]
  },
  {
   "cell_type": "code",
   "execution_count": 2,
   "metadata": {},
   "outputs": [],
   "source": [
    "driver = webdriver.Chrome()\n",
    "driver.get('https://www.jib.co.th/web/product/product_search/0?str_search=&cate_id[]=42')\n",
    "time.sleep(5)"
   ]
  },
  {
   "cell_type": "code",
   "execution_count": 3,
   "metadata": {},
   "outputs": [],
   "source": [
    "accept_cookie = driver.find_element(By.XPATH,'/html/body/div[1]/div/a[1]')\n",
    "accept_cookie.click()"
   ]
  },
  {
   "cell_type": "code",
   "execution_count": 4,
   "metadata": {},
   "outputs": [],
   "source": [
    "search = driver.find_element(By.XPATH,'//*[@id=\"productTitle\"]')\n",
    "search.send_keys('4060')\n",
    "search.send_keys(Keys.ENTER)\n"
   ]
  },
  {
   "cell_type": "code",
   "execution_count": 5,
   "metadata": {},
   "outputs": [],
   "source": [
    "driver.execute_script(\"document.body.style.transform = 'scale(0.1)';\")\n",
    "driver.execute_script('document.body.style.transformOrigin = \"0 0\";')\n"
   ]
  },
  {
   "cell_type": "code",
   "execution_count": 6,
   "metadata": {},
   "outputs": [],
   "source": [
    "from bs4 import BeautifulSoup"
   ]
  },
  {
   "cell_type": "code",
   "execution_count": 7,
   "metadata": {},
   "outputs": [],
   "source": [
    "data = driver.page_source \n",
    "soup = BeautifulSoup(data, 'html.parser')"
   ]
  },
  {
   "cell_type": "code",
   "execution_count": 8,
   "metadata": {},
   "outputs": [],
   "source": [
    "\n",
    "el=soup.select(\"#body > div > div > div.row > div > div.panel > div.panel-body.panel_body_detail > div \")"
   ]
  },
  {
   "cell_type": "code",
   "execution_count": 9,
   "metadata": {},
   "outputs": [
    {
     "data": {
      "text/plain": [
       "22"
      ]
     },
     "execution_count": 9,
     "metadata": {},
     "output_type": "execute_result"
    }
   ],
   "source": [
    "len(el)"
   ]
  },
  {
   "cell_type": "code",
   "execution_count": 10,
   "metadata": {},
   "outputs": [],
   "source": [
    "e = el[0]"
   ]
  },
  {
   "cell_type": "code",
   "execution_count": 11,
   "metadata": {},
   "outputs": [
    {
     "data": {
      "text/plain": [
       "'VGA (การ์ดแสดงผล) GIGABYTE GEFORCE RTX 4060 GAMING OC 8G - 8GB GDDR6 (GV-N4060GAMING OC-8GD)'"
      ]
     },
     "execution_count": 11,
     "metadata": {},
     "output_type": "execute_result"
    }
   ],
   "source": [
    "e.select_one(\"#body > div > div > div.row > div > div.panel > div.panel-body.panel_body_detail > div > div > div:nth-child(4) > div > a > div > div > div > div > span\").text.strip()"
   ]
  },
  {
   "cell_type": "code",
   "execution_count": 12,
   "metadata": {},
   "outputs": [
    {
     "name": "stdout",
     "output_type": "stream",
     "text": [
      "[['VGA (การ์ดแสดงผล) GIGABYTE GEFORCE RTX 4060 GAMING OC 8G - 8GB GDDR6 (GV-N4060GAMING OC-8GD)', '11,500.-'], ['VGA (การ์ดแสดงผล) ASUS DUAL GEFORCE RTX 4060 WHITE OC EDITION 8GB GDDR6 (DUAL-RTX4060-O8G-WHITE)', '11,800.-'], ['VGA (การ์ดแสดงผล) GALAX GEFORCE RTX 4060 EX 1-CLICK OC - 8GB GDDR6', '10,900.-'], ['VGA (การ์ดแสดงผล) GIGABYTE GEFORCE RTX 4060 WINDFORCE OC 8G - 8GB GDDR6 (GV-N4060WF2OC-8GD)', '9,990.-'], ['VGA (การ์ดแสดงผล) GIGABYTE GEFORCE RTX 4060 EAGLE OC 8G - 8GB GDDR6 (GV-N4060EAGLE OC-8GD)', '10,900.-'], ['VGA (การ์ดแสดงผล) GIGABYTE GEFORCE RTX 4060 TI AERO OC 8G - 8GB GDDR6 (GV-N406TAERO OC-8GD)', '16,600.-'], ['VGA (การ์ดแสดงผล) GALAX GEFORCE RTX 4060 1-CLICK OC 2X V2 - 8GB GDDR6', '10,300.-'], ['VGA (การ์ดแสดงผล) GALAX GEFORCE RTX 4060 TI 8GB EX - 8GB GDDR6', '14,300.-'], ['VGA (การ์ดแสดงผล) GALAX GEFORCE RTX 4060 EX WHITE 1-CLICK OC - 8GB GDDR6', '11,200.-'], ['VGA (การ์ดแสดงผล) INNO3D GEFORCE RTX 4060 TWIN X2 - 8GB GDDR6 (N40602-08D6-173051N)', '10,500.-'], ['VGA (การ์ดแสดงผล) ZOTAC GAMING GEFORCE RTX 4060 8GB TWIN EDGE OC - 8GB GDDR6 (ZT-D40600H-10M)', '9,890.-'], ['VGA (การ์ดแสดงผล) MSI GEFORCE RTX 4060 GAMING X 8G - 8GB GDDR6', '11,400.-'], ['VGA (การ์ดแสดงผล) PNY GEFORCE RTX 4060 8GB VERTO DUAL FAN DLSS 3 - 8GB GDDR6 (VCG40608DFXPB1)', '9,790.-'], ['VGA (การ์ดแสดงผล) GALAX GEFORCE RTX 4060 1-CLICK OC - 8GB GDDR6', '10,500.-'], ['VGA (การ์ดแสดงผล) GIGABYTE GEFORCE RTX 4060 TI WINDFORCE OC 16G - 16GB GDDR6 (GV-N406TWF2OC-16GD)', '17,400.-'], ['VGA (การ์ดแสดงผล) ZOTAC GAMING GEFORCE RTX 4060 TI 8GB TWIN EDGE OC WHITE EDITION - 8GB GDDR6 (ZT-D40610Q-10M)', '14,900.-'], ['VGA (การ์ดแสดงผล) MSI GEFORCE RTX 4060 VENTUS 2X WHITE 8G OC - 8GB GDDR6', '11,260.-'], ['VGA (การ์ดแสดงผล) INNO3D GEFORCE RTX 4060 TI 8GB TWIN X2 - 8GB GDDR6 (N406T2-08D6-171153N)', '13,900.-'], ['VGA (การ์ดแสดงผล) ASUS DUAL GEFORCE RTX 4060 V2 OC EDITION 8GB GDDR6 (DUAL-RTX4060-O8G-V2)', '10,900.-'], ['VGA (การ์ดแสดงผล) MSI GEFORCE RTX 4060 GAMING X NV EDITION 8G - 8GB GDDR6', '12,600.-'], ['VGA (การ์ดแสดงผล) MSI GEFORCE RTX 4060 TI 8G GAMING SLIM MONSTER HUNTER EDITION - 8GB GDDR6', '20,400.-'], ['VGA (การ์ดแสดงผล) PNY GEFORCE RTX 4060 8GB OC XLR8 VERTO DF WHITE EDITION - 8GB GDDR6 (VCG40608DFWXPB1-O)', '10,800.-']]\n"
     ]
    }
   ],
   "source": [
    "records=[]\n",
    "data = driver.page_source\n",
    "soup = BeautifulSoup(data, 'html.parser')\n",
    "el=soup.select(\"#body > div > div > div.row > div > div.panel > div.panel-body.panel_body_detail > div\")\n",
    "for e in el:\n",
    "    name = e.select_one(\"#body > div > div > div.row > div > div.panel > div.panel-body.panel_body_detail > div > div > div:nth-child(4) > div > a > div > div > div > div > span\").text.strip()\n",
    "    prine = e.select_one(\"#body > div > div > div.row > div > div.panel > div.panel-body.panel_body_detail > div > div > div:nth-child(7) > div > div > div > div > div > div.col-md-6.col-sm-6.col-xs-6.pad-0.text-right > p\").text.strip()\n",
    "    records.append([name,prine])\n",
    "    \n",
    "print(records)"
   ]
  },
  {
   "cell_type": "code",
   "execution_count": 13,
   "metadata": {},
   "outputs": [
    {
     "data": {
      "text/plain": [
       "22"
      ]
     },
     "execution_count": 13,
     "metadata": {},
     "output_type": "execute_result"
    }
   ],
   "source": [
    "len(records)"
   ]
  },
  {
   "cell_type": "code",
   "execution_count": 14,
   "metadata": {},
   "outputs": [],
   "source": [
    "driver.quit()"
   ]
  }
 ],
 "metadata": {
  "kernelspec": {
   "display_name": "Python 3",
   "language": "python",
   "name": "python3"
  },
  "language_info": {
   "codemirror_mode": {
    "name": "ipython",
    "version": 3
   },
   "file_extension": ".py",
   "mimetype": "text/x-python",
   "name": "python",
   "nbconvert_exporter": "python",
   "pygments_lexer": "ipython3",
   "version": "3.11.9"
  }
 },
 "nbformat": 4,
 "nbformat_minor": 2
}
